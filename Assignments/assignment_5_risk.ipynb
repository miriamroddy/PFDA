{
 "cells": [
  {
   "cell_type": "markdown",
   "metadata": {},
   "source": [
    "In this task, we are to simulate a battle featured in the game \"Risk\", in which the attacker rolls three dice, and the defender rolls two. The highest two rolls from each side are then compared. If the attacker’s roll beats the defender’s, the defender loses a unit and if not the attacker does.\n",
    "\n",
    "Lets use [np.random.randint](https://medium.com/@ai.mlresearcher/numpy-random-numbers-75b42907e9c4) to simulate rolling dice in just one battle."
   ]
  },
  {
   "cell_type": "code",
   "execution_count": 35,
   "metadata": {},
   "outputs": [
    {
     "name": "stdout",
     "output_type": "stream",
     "text": [
      "Attacker's turn: [5 5 6]\n",
      "Defender's turn: [5 5]\n"
     ]
    }
   ],
   "source": [
    "import numpy as np\n",
    "import matplotlib.pyplot as plt\n",
    "\n",
    "# Idea from https://medium.com/@ai.mlresearcher/numpy-random-numbers-75b42907e9c4\n",
    "# The attacker rolls three times and the defender twice\n",
    "attackerturn = np.sort(np.random.randint(1, 7, size=3))\n",
    "defenderturn = np.sort(np.random.randint(1, 7, size=2))\n",
    "\n",
    "# We print the results of each roll\n",
    "print(\"Attacker's turn:\", attackerturn)\n",
    "print(\"Defender's turn:\", defenderturn)"
   ]
  },
  {
   "cell_type": "markdown",
   "metadata": {},
   "source": []
  }
 ],
 "metadata": {
  "kernelspec": {
   "display_name": "Python 3",
   "language": "python",
   "name": "python3"
  },
  "language_info": {
   "codemirror_mode": {
    "name": "ipython",
    "version": 3
   },
   "file_extension": ".py",
   "mimetype": "text/x-python",
   "name": "python",
   "nbconvert_exporter": "python",
   "pygments_lexer": "ipython3",
   "version": "3.12.7"
  }
 },
 "nbformat": 4,
 "nbformat_minor": 2
}
