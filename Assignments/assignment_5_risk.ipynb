{
 "cells": [
  {
   "cell_type": "markdown",
   "metadata": {},
   "source": [
    "#### Task 5\n",
    "##### Problem Statement\n",
    "**Risk**\n",
    "\n",
    "I love the board game Risk.\n",
    "\n",
    "Write a program (or notebook) called **assignment_5_risk** (.py or .ipynb)\n",
    "\n",
    "The program should simulates 1000 individual battle rounds in Risk (3 attacker vs 2 defender) and plots the result.\n",
    "\n",
    "One battle round is one shake of the attacker and defender dice.\n",
    "\n",
    "I am being vague about what it plot, I will leave that to you.\n",
    "\n",
    "**For the last few marks**.\n",
    "\n",
    "A more complicated version simulates a full series of rounds for armies of arbitrary sizes, until one side is wiped out,\n",
    "\n",
    "and plots the results.\n",
    "\n",
    "(This is open ended, so it is only for the last few marks)\n",
    "\n",
    "**Rules of Risk**\n",
    "\n",
    "In Risk one army fights another. (using 6 sided dice)\n",
    "\n",
    "In each battle round, the attacker can put forward up to three of their troops (3 dice).\n",
    "\n",
    "The defender can use up to two of their defending troops (2 dice).\n",
    "\n",
    "Each side looses troops depending on the following rules:\n",
    "\n",
    "The two top dice dice are compared (ie the attackers top dice roll with the defenders top dice roll) \n",
    "If the attackers dice is the same or lower they loose one troop otherwise the defender looses a troop (ie if the attackers dice is higher)\n",
    "\n",
    "The next two highest dice from each side are then compared (ie the attackers second highest to the defenders second highest)\n",
    "\n",
    "If the attackers dice is the same or lower they loose one troop otherwise the defender looses a troop (ie if the attackers dice is higher)\n"
   ]
  },
  {
   "cell_type": "markdown",
   "metadata": {},
   "source": [
    "##### 5.1 Introduction\n",
    "\n",
    "In this task, we are to simulate a battle featured in the game \"Risk\", in which the attacker rolls three dice, and the defender rolls two. The highest two rolls from each side are then compared. If the attacker’s roll beats the defender’s, the defender loses a unit and if not the attacker does.\n",
    "\n",
    "\n",
    "Let's start by importing our libraries.\n"
   ]
  },
  {
   "cell_type": "code",
   "execution_count": 1,
   "metadata": {},
   "outputs": [],
   "source": [
    "import numpy as np\n",
    "import matplotlib.pyplot as plt\n",
    "from random import randint"
   ]
  },
  {
   "cell_type": "markdown",
   "metadata": {},
   "source": [
    "##### 5.2 Simulating a rolling dice\n",
    "Lets use [np.random.randint](https://medium.com/@ai.mlresearcher/numpy-random-numbers-75b42907e9c4) to simulate rolling dice in just one battle. We will use Numpy's `np.sort` function to sort the elements of the array."
   ]
  },
  {
   "cell_type": "code",
   "execution_count": 2,
   "metadata": {},
   "outputs": [
    {
     "name": "stdout",
     "output_type": "stream",
     "text": [
      "Attacker's turn: [1 3 6]\n",
      "Defender's turn: [2 4]\n",
      "Attacker's turn: (3,)\n",
      "Defender's turn: (2,)\n"
     ]
    }
   ],
   "source": [
    "# Idea from https://medium.com/@ai.mlresearcher/numpy-random-numbers-75b42907e9c4. A 1D array of three random integers between 1 and 6 is generated.\n",
    "# The attacker rolls three times and the defender twice\n",
    "\n",
    "attackersroll = np.sort(np.random.randint(1, 7, size=3))\n",
    "defendersroll = np.sort(np.random.randint(1, 7, size=2))\n",
    "\n",
    "# We print the results of each roll.\n",
    "\n",
    "print(\"Attacker's turn:\", attackersroll)\n",
    "print(\"Defender's turn:\", defendersroll)\n",
    "\n",
    "# We get info about the shape of the array here\n",
    "print(\"Attacker's turn:\", attackersroll.shape)\n",
    "print(\"Defender's turn:\", defendersroll.shape)"
   ]
  },
  {
   "cell_type": "markdown",
   "metadata": {},
   "source": [
    "##### 5.3 Adding a loop\n",
    "We can see that each time we run this cell, different values are created. Let's introduce a for loop to extend this to five rounds."
   ]
  },
  {
   "cell_type": "code",
   "execution_count": 3,
   "metadata": {},
   "outputs": [
    {
     "name": "stdout",
     "output_type": "stream",
     "text": [
      "Round 1: Attacker's roll: [1 2 3], Defender's roll: [3 4]\n",
      "Round 2: Attacker's roll: [1 2 6], Defender's roll: [3 5]\n",
      "Round 3: Attacker's roll: [3 6 6], Defender's roll: [1 5]\n",
      "Round 4: Attacker's roll: [3 4 5], Defender's roll: [4 4]\n",
      "Round 5: Attacker's roll: [1 6 6], Defender's roll: [3 6]\n"
     ]
    }
   ],
   "source": [
    "\n",
    "# Simulate and display 5 sample rounds\n",
    "for i in range(5):\n",
    "    # The attacker rolls three dice, defender rolls two dice\n",
    "    attackersroll = np.sort(np.random.randint(1, 7, 3))\n",
    "    defendersroll = np.sort(np.random.randint(1, 7, 2))\n",
    "    \n",
    "    # Print results in a single line\n",
    "    print(f\"Round {i + 1}: Attacker's roll: {attackersroll}, Defender's roll: {defendersroll}\")\n",
    "\n",
    "\n"
   ]
  },
  {
   "cell_type": "markdown",
   "metadata": {},
   "source": [
    "We can see that each round generates a 1D array with 3 elements each. We want to simulate 1000 battles however so we will need to use a 2D array of shape (1000,3).\n",
    "\n",
    "To code this correctly, we have to understand the rules of Risk. We might think that draws will feature in our results. However, in Risk, a draw is not possible in a single battle between the attacker and defender.\n",
    "\n",
    "Each battle must have  winner; when the attacker and defender each roll their dice, each pair of dice is compared individually. If the dice roll values are equal, the defender wins the roll (and the attacker loses a unit). Because the defender wins on ties, *there will never be draw*.\n",
    "\n",
    "Each battle round therefore ends with a definitive outcome: either the attacker or the defender loses one unit for each pair of dice.\n",
    "\n",
    "##### 5.4 Extending to 1,000 rounds\n",
    "Let's now define our variables. We want to simulate 1000 rounds, so we'll make `no_of_battles` equal to this. We have looked at the individual details in each *roll* up until now, but now we care about wins. We will want our counters initialized to zero to keep track of the number of rounds each side wins."
   ]
  },
  {
   "cell_type": "code",
   "execution_count": 4,
   "metadata": {},
   "outputs": [],
   "source": [
    "\n",
    "# Let's define our variables. We want to simulate 1000 rounds, so we'll make no_of_battles equal to this.\n",
    "no_of_battles = 1000\n",
    "attackerlosses, defenderlosses = 0, 0 # We initialize both rounds to zero"
   ]
  },
  {
   "cell_type": "markdown",
   "metadata": {},
   "source": [
    "For each round, both the attacker and defender roll their dice. The attacker rolls 3 dice, and the defender rolls 2 dice. Each set of dice is sorted in descending order.\n"
   ]
  },
  {
   "cell_type": "markdown",
   "metadata": {},
   "source": [
    "[This stackoverflow user](https://stackoverflow.com/a/74421618) recommends grouping the simulation into larger sets, thus focusing on overall stats rather than the details of each battle. It's an efficient approach but doesn't track when the teams draw. \n",
    "\n",
    "I prefer to see what's happening in each individual battle, so I'll go with a less efficient but easier to understand (for me) approach. I'll define a function using our random dice rolls that sorts them in ascending order.  I'll use a for loop to compare the dice as per the rules of Risk; it reverses both sorted arrays so that the highest rolls are compared first. For each comparison, if the attacker’s dice is higher, the defender loses a unit; otherwise, the attacker loses a unit. The function tracks the total losses for each side and [returns](https://realpython.com/python-return-statement/) these as `attackerlosses` and `defenderlosses`."
   ]
  },
  {
   "cell_type": "code",
   "execution_count": 5,
   "metadata": {},
   "outputs": [],
   "source": [
    "# https://stackoverflow.com/questions/74421396/risk-game-with-python was a starting point \n",
    "# we are defining a function to simulate one battle round\n",
    "\n",
    "def simulatebattle():\n",
    "    \"\"\"\n",
    "    This function simulates one battle round of Risk with 3 attackers versus 2 defenders. It uses ascending order\n",
    "    sorting & compares largest to smallest numbers.\n",
    "    \"\"\"\n",
    "     # The attacker rolls three dice, defender rolls two dice \n",
    "    attackersroll = np.sort(np.random.randint(1, 7, size=3))\n",
    "    defendersroll = np.sort(np.random.randint(1, 7, size=2))\n",
    "    \n",
    "    # Then we want to compare the dice rolls from largest to smallest. We reverse both arrays so we can compare in descending order\n",
    "    attackerlosses = 0\n",
    "    defenderlosses = 0\n",
    "    for attack, defend in zip(attackersroll[::-1], defendersroll[::-1]):  \n",
    "        if attack > defend:\n",
    "            defenderlosses += 1\n",
    "        else:\n",
    "            attackerlosses += 1\n",
    "    return attackerlosses, defenderlosses\n"
   ]
  },
  {
   "cell_type": "markdown",
   "metadata": {},
   "source": [
    "We'll have `attackertotalwins` and `defendertotalwins` track the cumulative wins for each side across all battles. We'll then use a [dictionary](https://www.w3schools.com/python/python_dictionaries.asp) to categorise battle outcomes into:\n",
    "- Two attacker wins - Defender loses both units\n",
    "- Draw - Each side loses one unit\n",
    "- Two defender wins - Attacker loses both \n",
    "\n",
    "##### 5.5 Calling our function\n",
    "We then call our simulatebattle function which returns two values - attackerlosses and defenderlosses. The total wins are updated based on the losses of the other side.\n",
    "\n",
    "- `attackertotalwins` increases by the number of defender units lost (`defenderlosses`)\n",
    "- `defendertotalwins` increases by the number of attacker units lost (`attackerlosses`)"
   ]
  },
  {
   "cell_type": "code",
   "execution_count": 6,
   "metadata": {},
   "outputs": [],
   "source": [
    "# We now want to initialize results - this tracks the cumulative wins for each side across all battles\n",
    "attackertotalwins = 0\n",
    "defendertotalwins = 0\n",
    "results = {\"Two Attacker Wins\": 0, \"Draw\": 0, \"Two Defender Wins\": 0}\n",
    "\n",
    "# We now call our simulatebattle function -  this returns two values - attackerlosses and defenderlosses. The total wins are updated based on the losses of the other side.\n",
    "for _ in range(no_of_battles):\n",
    "    attackerlosses, defenderlosses = simulatebattle()\n",
    "    attackertotalwins += defenderlosses\n",
    "    defendertotalwins += attackerlosses\n",
    "    if defenderlosses == 2:\n",
    "        results[\"Two Attacker Wins\"] += 1\n",
    "    elif attackerlosses == 2:\n",
    "        results[\"Two Defender Wins\"] += 1\n",
    "    else:\n",
    "        results[\"Draw\"] += 1\n"
   ]
  },
  {
   "cell_type": "markdown",
   "metadata": {},
   "source": [
    "##### 5.6 Plotting the results"
   ]
  },
  {
   "cell_type": "code",
   "execution_count": 7,
   "metadata": {},
   "outputs": [
    {
     "data": {
      "image/png": "[encoded data removed]",
      "text/plain": [
       "<Figure size 1200x600 with 1 Axes>"
      ]
     },
     "metadata": {},
     "output_type": "display_data"
    }
   ],
   "source": [
    "\n",
    "# Plotting the bar chart: Battle Outcome \n",
    "plt.figure(figsize=(12, 6))\n",
    "# Specify colours https://matplotlib.org/stable/gallery/color/named_colors.html\n",
    "\n",
    "plt.bar(results.keys(), results.values(), color=['darkorchid', 'greenyellow', 'turquoise'], edgecolor='black')\n",
    "plt.title(\"1000 Simulated Risk Battles (3 Attacker v 2 Defender)\", fontsize=14)\n",
    "plt.xlabel(\"Battle Outcome\", fontsize=12)\n",
    "plt.ylabel(\"Frequency\", fontsize=12)\n",
    "plt.grid(axis='y', linestyle='--')\n",
    "plt.show()\n",
    "\n"
   ]
  },
  {
   "cell_type": "markdown",
   "metadata": {},
   "source": [
    "\n",
    "##### 5.7 Simulating battles until one side is wiped out\n",
    "\n",
    "In this version, I created a new function called  `simulategame` which takes three inputs: \n",
    "\n",
    "- the initial number of attacking troops\n",
    "- defending troops\n",
    "- the maximum number of battles allowed. \n",
    "\n",
    "We initialize the number of battles to zero like previously but now we want to continue battles while attackers have more than 1 troop, defenders have troops, and battle count is below the limit.\n",
    "The user inputs the required details, and the final result is printed, summarising the battle series and the remaining troops for each side. We can then call our original `simulatebattle` function - the troop counts for both sides are updated accordingly.\n",
    "\n",
    "Battles continue until one of the following occurs:\n",
    "\n",
    "-  one side is wiped out\n",
    "-  the attackers are reduced to one troop or fewer OR\n",
    "-  the maximum battle limit is reached. \n",
    "\n",
    "The outcome of the simulation is then calculated and printed to the console, describing whether the attackers or defenders won or if the game ended without a decisive winner.\n",
    "\n",
    "Defining the new function:"
   ]
  },
  {
   "cell_type": "code",
   "execution_count": 8,
   "metadata": {},
   "outputs": [],
   "source": [
    "# We define a new function with 3 inputs and 1 output\n",
    "def simulategame(attackercount, defendercount, maxbattles):\n",
    "    \"\"\"\n",
    "    Simulates multiple rounds of Risk battles until one side is wiped out or the number of battles reaches the limit.\n",
    "\n",
    "    Inputs:\n",
    "        attackercount: Initial number of attackers (user-input).\n",
    "        defendercount: Initial number of defenders (user-input).\n",
    "        maxbattles: Maximum number of battles allowed (user-input).\n",
    "\n",
    "    Output:\n",
    "        Result of the battle series and final remaining troops for both sides.\n",
    "\n",
    "    \"\"\"\n",
    "    # Now initialize the number of battles to zero\n",
    "    battlecount = 0\n",
    "\n",
    "    # We want to continue battles while attackers have more than 1 troop, defenders have troops, and battle count is below the limit\n",
    "    while attackercount > 1 and defendercount > 0 and battlecount < maxbattles:\n",
    "        # Now call our original simulatebattle function\n",
    "        attackerlosses, defenderlosses = simulatebattle()\n",
    "\n",
    "        # Update the counts\n",
    "        attackercount -= attackerlosses\n",
    "        defendercount -= defenderlosses\n",
    "\n",
    "        battlecount += 1\n",
    "\n",
    "    # Calculate the outcome using a conditional statement and include return with ascii face\n",
    "    if defendercount == 0:\n",
    "        return f\"Attackers win after {battlecount} battles with {attackercount} troops remaining (⊙ _ ⊙)\"\n",
    "    elif attackercount <= 1:\n",
    "        return f\"Defenders win after {battlecount} battles with {defendercount} troops remaining (⊙ _ ⊙)\"\n",
    "    else:\n",
    "        return f\"Game ended after {battlecount} battles. Attackers: {attackercount}, Defenders: {defendercount}\"\n"
   ]
  },
  {
   "cell_type": "markdown",
   "metadata": {},
   "source": [
    "We can now define our user input parameters:"
   ]
  },
  {
   "cell_type": "code",
   "execution_count": 9,
   "metadata": {},
   "outputs": [],
   "source": [
    "# Define user input parameters\n",
    "attackertroops = int(input(\"Enter the number of attacking troops: \"))\n",
    "defendertroops = int(input(\"Enter the number of defending troops: \"))\n",
    "maxbattles = int(input(\"Enter the maximum number of battles: \"))\n",
    "\n"
   ]
  },
  {
   "cell_type": "markdown",
   "metadata": {},
   "source": [
    "And the run the simulation:"
   ]
  },
  {
   "cell_type": "code",
   "execution_count": 10,
   "metadata": {},
   "outputs": [
    {
     "name": "stdout",
     "output_type": "stream",
     "text": [
      "Defenders win after 3 battles with 5 troops remaining (⊙ _ ⊙)\n"
     ]
    }
   ],
   "source": [
    "# Run the simulation and display the result\n",
    "result = simulategame(attackertroops, defendertroops, maxbattles)\n",
    "print(result)\n"
   ]
  },
  {
   "cell_type": "markdown",
   "metadata": {},
   "source": [
    "#### References\n",
    "\n",
    "- [Numpy Random Numbers](https://medium.com/@ai.mlresearcher/numpy-random-numbers-75b42907e9c4)\n",
    "- [Risk Game with Python - Stack Overflow](https://stackoverflow.com/questions/74421396/risk-game-with-python)\n",
    "- [Matplotlib Named Colors](https://matplotlib.org/stable/gallery/color/named_colors.html)\n",
    "- [Python Return Statement](https://realpython.com/python-return-statement/)\n"
   ]
  }
 ],
 "metadata": {
  "kernelspec": {
   "display_name": "Python 3",
   "language": "python",
   "name": "python3"
  },
  "language_info": {
   "codemirror_mode": {
    "name": "ipython",
    "version": 3
   },
   "file_extension": ".py",
   "mimetype": "text/x-python",
   "name": "python",
   "nbconvert_exporter": "python",
   "pygments_lexer": "ipython3",
   "version": "3.12.7"
  }
 },
 "nbformat": 4,
 "nbformat_minor": 2
}
