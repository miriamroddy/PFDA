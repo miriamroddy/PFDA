{
 "cells": [
  {
   "cell_type": "markdown",
   "metadata": {},
   "source": [
    "#### Task 5\n",
    "##### Problem Statement\n",
    "**Risk**\n",
    "\n",
    "I love the board game Risk.\n",
    "\n",
    "Write a program (or notebook) called **assignment_5_risk** (.py or .ipynb)\n",
    "\n",
    "The program should simulates 1000 individual battle rounds in Risk (3 attacker vs 2 defender) and plots the result.\n",
    "\n",
    "One battle round is one shake of the attacker and defender dice.\n",
    "\n",
    "I am being vague about what it plot, I will leave that to you.\n",
    "\n",
    "**For the last few marks**.\n",
    "\n",
    "A more complicated version simulates a full series of rounds for armies of arbitrary sizes, until one side is wiped out,\n",
    "\n",
    "and plots the results.\n",
    "\n",
    "(This is open ended, so it is only for the last few marks)\n",
    "\n",
    "**Rules of Risk**\n",
    "\n",
    "In Risk one army fights another. (using 6 sided dice)\n",
    "\n",
    "In each battle round, the attacker can put forward up to three of their troops (3 dice).\n",
    "\n",
    "The defender can use up to two of their defending troops (2 dice).\n",
    "\n",
    "Each side looses troops depending on the following rules:\n",
    "\n",
    "The two top dice dice are compared (ie the attackers top dice roll with the defenders top dice roll) \n",
    "If the attackers dice is the same or lower they loose one troop otherwise the defender looses a troop (ie if the attackers dice is higher)\n",
    "\n",
    "The next two highest dice from each side are then compared (ie the attackers second highest to the defenders second highest)\n",
    "\n",
    "If the attackers dice is the same or lower they loose one troop otherwise the defender looses a troop (ie if the attackers dice is higher)\n"
   ]
  },
  {
   "cell_type": "markdown",
   "metadata": {},
   "source": [
    "#### Introduction\n",
    "\n",
    "In this task, we are to simulate a battle featured in the game \"Risk\", in which the attacker rolls three dice, and the defender rolls two. The highest two rolls from each side are then compared. If the attacker’s roll beats the defender’s, the defender loses a unit and if not the attacker does.\n",
    "<br>\n",
    "<br>\n",
    "Let's start by importing our libraries.\n"
   ]
  },
  {
   "cell_type": "code",
   "execution_count": 19,
   "metadata": {},
   "outputs": [],
   "source": [
    "import numpy as np\n",
    "import matplotlib.pyplot as plt\n",
    "from random import randint"
   ]
  },
  {
   "cell_type": "markdown",
   "metadata": {},
   "source": [
    "Lets use [np.random.randint](https://medium.com/@ai.mlresearcher/numpy-random-numbers-75b42907e9c4) to simulate rolling dice in just one battle. We will use Numpy's `np.sort` function to sort the elements of the array."
   ]
  },
  {
   "cell_type": "code",
   "execution_count": 20,
   "metadata": {},
   "outputs": [
    {
     "name": "stdout",
     "output_type": "stream",
     "text": [
      "Attacker's turn: [2 6 6]\n",
      "Defender's turn: [2 4]\n",
      "Attacker's turn: (3,)\n",
      "Defender's turn: (2,)\n"
     ]
    }
   ],
   "source": [
    "# Idea from https://medium.com/@ai.mlresearcher/numpy-random-numbers-75b42907e9c4. A 1D array of three random integers between 1 and 6 is generated.\n",
    "# The attacker rolls three times and the defender twice\n",
    "\n",
    "attackersroll = np.sort(np.random.randint(1, 7, size=3))\n",
    "defendersroll = np.sort(np.random.randint(1, 7, size=2))\n",
    "\n",
    "# We print the results of each roll.\n",
    "\n",
    "print(\"Attacker's turn:\", attackersroll)\n",
    "print(\"Defender's turn:\", defendersroll)\n",
    "\n",
    "# We get info about the shape of the array here\n",
    "print(\"Attacker's turn:\", attackersroll.shape)\n",
    "print(\"Defender's turn:\", defendersroll.shape)"
   ]
  },
  {
   "cell_type": "markdown",
   "metadata": {},
   "source": [
    "We can see that each time we run this cell, different values are created. Let's introduce a for loop to extend this to five rounds."
   ]
  },
  {
   "cell_type": "code",
   "execution_count": 21,
   "metadata": {},
   "outputs": [
    {
     "name": "stdout",
     "output_type": "stream",
     "text": [
      "Round 1: Attacker's roll: [2 2 5], Defender's roll: [2 4]\n",
      "Round 2: Attacker's roll: [3 6 6], Defender's roll: [2 5]\n",
      "Round 3: Attacker's roll: [2 3 4], Defender's roll: [4 4]\n",
      "Round 4: Attacker's roll: [2 4 6], Defender's roll: [1 4]\n",
      "Round 5: Attacker's roll: [4 4 6], Defender's roll: [4 6]\n"
     ]
    }
   ],
   "source": [
    "\n",
    "# Simulate and display 5 sample rounds\n",
    "for i in range(5):\n",
    "    # The attacker rolls three dice, defender rolls two dice\n",
    "    attackersroll = np.sort(np.random.randint(1, 7, 3))\n",
    "    defendersroll = np.sort(np.random.randint(1, 7, 2))\n",
    "    \n",
    "    # Print results in a single line\n",
    "    print(f\"Round {i + 1}: Attacker's roll: {attackersroll}, Defender's roll: {defendersroll}\")\n",
    "\n",
    "\n"
   ]
  },
  {
   "cell_type": "markdown",
   "metadata": {},
   "source": [
    "We can see that each round generates a 1D array with 3 elements each. We want to simulate 1000 battles however so we will need to use a 2D array of shape (1000,3).\n",
    "\n",
    "To code this correctly, we have to understand the rules of Risk. We might think that draws will feature in our results. However, in Risk, a draw is not possible in a single battle between the attacker and defender.\n",
    "\n",
    "Each battle must have  winner; when the attacker and defender each roll their dice, each pair of dice is compared individually. If the dice roll values are equal, the defender wins the roll (and the attacker loses a unit). Because the defender wins on ties, *there will never be draw*.\n",
    "\n",
    "Each battle round therefore ends with a definitive outcome: either the attacker or the defender loses one unit for each pair of dice.\n",
    "\n",
    "Let's now define our variables. We want to simulate 1000 rounds, so we'll make `no_of_battles` equal to this. We have looked at the individual details in each *roll* up until now, but now we care about wins. We will want our counters initialized to zero to keep track of the number of rounds each side wins."
   ]
  },
  {
   "cell_type": "code",
   "execution_count": 22,
   "metadata": {},
   "outputs": [],
   "source": [
    "\n",
    "# Let's define our variables. We want to simulate 1000 rounds, so we'll make no_of_battles equal to this.\n",
    "no_of_battles = 1000\n",
    "attackerlosses, defenderlosses = 0, 0 # We initialize both rounds to zero"
   ]
  },
  {
   "cell_type": "markdown",
   "metadata": {},
   "source": [
    "For each round, both the attacker and defender roll their dice. The attacker rolls 3 dice, and the defender rolls 2 dice. Each set of dice is sorted in descending order.\n"
   ]
  },
  {
   "cell_type": "markdown",
   "metadata": {},
   "source": [
    "[This stackoverflow user](https://stackoverflow.com/a/74421618) recommends grouping the simulation into larger sets, thus focusing on overall stats rather than the details of each battle. It's an efficient approach but doesn't track when the teams draw. \n",
    "\n",
    "I prefer to see what's happening in each individual battle, so I'll go with a less efficient but easier to understand (for me) approach. I'll define a function using our random dice rolls that sorts them in ascending order.  I'll use a for loop to compare the dice as per the rules of Risk; it reverses both sorted arrays so that the highest rolls are compared first. For each comparison, if the attacker’s dice is higher, the defender loses a unit; otherwise, the attacker loses a unit. The function tracks the total losses for each side and [returns](https://realpython.com/python-return-statement/) these as `attackerlosses` and `defenderlosses`."
   ]
  },
  {
   "cell_type": "code",
   "execution_count": 25,
   "metadata": {},
   "outputs": [],
   "source": [
    "# https://stackoverflow.com/questions/74421396/risk-game-with-python was a starting point \n",
    "# we are defining a function to simulate one battle rund\n",
    "\n",
    "def simulatebattle():\n",
    "    \"\"\"\n",
    "    The function simulates one battle round of Risk with 3 attackers versus 2 defenders. It uses ascending order\n",
    "    sorting & compares largest to smallest numbers.\n",
    "    \"\"\"\n",
    "     # The attacker rolls three dice, defender rolls two dice \n",
    "    attackersroll = np.sort(np.random.randint(1, 7, size=3))\n",
    "    defendersroll = np.sort(np.random.randint(1, 7, size=2))\n",
    "    \n",
    "    # Then we want to compare the dice rolls from largest to smallest. We reverse both arrays so we can compare in desending order\n",
    "    attackerlosses = 0\n",
    "    defenderlosses = 0\n",
    "    for attack, defend in zip(attackersroll[::-1], defendersroll[::-1]):  \n",
    "        if attack > defend:\n",
    "            defenderlosses += 1\n",
    "        else:\n",
    "            attackerlosses += 1\n",
    "    return attackerlosses, defenderlosses\n"
   ]
  },
  {
   "cell_type": "markdown",
   "metadata": {},
   "source": [
    "#### References\n",
    "https://medium.com/@ai.mlresearcher/numpy-random-numbers-75b42907e9c4\n",
    "https://stackoverflow.com/questions/74421396/risk-game-with-python"
   ]
  }
 ],
 "metadata": {
  "kernelspec": {
   "display_name": "Python 3",
   "language": "python",
   "name": "python3"
  },
  "language_info": {
   "codemirror_mode": {
    "name": "ipython",
    "version": 3
   },
   "file_extension": ".py",
   "mimetype": "text/x-python",
   "name": "python",
   "nbconvert_exporter": "python",
   "pygments_lexer": "ipython3",
   "version": "3.12.7"
  }
 },
 "nbformat": 4,
 "nbformat_minor": 2
}
