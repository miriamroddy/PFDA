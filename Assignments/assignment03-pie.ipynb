{
 "cells": [
  {
   "cell_type": "markdown",
   "metadata": {},
   "source": [
    "#### Task 3\n",
    "\"Create a notebook called assignment03-pie.ipynb\n",
    "\n",
    "The note book should have a nice pie chart of peoples email domains in the csv file at the url\n",
    "\n",
    "https://drive.google.com/uc?id=1AWPf-pJodJKeHsARQK_RHiNsE8fjPCVK&export=download\n",
    "\n",
    "This csv file has 1000 people. You may download the data or link to it.\n",
    "\n",
    "Marks will be given for:\n",
    "\n",
    "- Just creating the pie chart\n",
    "- Making it look nice\n",
    "- And as always, a very small amount of marks will be given for just pushing something to your repository this week\n",
    "- As always, your code should be well laid out\n",
    "\n",
    "If you are having difficulties, know I will be doing more on Pie charts later in this module.\""
   ]
  },
  {
   "cell_type": "markdown",
   "metadata": {},
   "source": [
    "Let's start off by importing pandas to handle the data and matplotlib.pyplot for creating the chart. We'll load the .csv ito a dataframe (df). To make sure everything is loaded correctly, I'll display the first few rows and check the structure of the dataframe. "
   ]
  },
  {
   "cell_type": "code",
   "execution_count": 33,
   "metadata": {},
   "outputs": [
    {
     "name": "stdout",
     "output_type": "stream",
     "text": [
      "DF Head:\n",
      "   Index          User Id First Name Last Name     Sex  \\\n",
      "0      1  8717bbf45cCDbEe     Shelia   Mahoney    Male   \n",
      "1      2  3d5AD30A4cD38ed         Jo    Rivers  Female   \n",
      "2      3  810Ce0F276Badec     Sheryl    Lowery  Female   \n",
      "3      4  BF2a889C00f0cE1    Whitney    Hooper    Male   \n",
      "4      5  9afFEafAe1CBBB9    Lindsey      Rice  Female   \n",
      "\n",
      "                           Email               Phone Date of birth  \\\n",
      "0            pwarner@example.org        857.139.8239    2014-01-27   \n",
      "1  fergusonkatherine@example.net     +1-950-759-8687    1931-07-26   \n",
      "2            fhoward@example.org       (599)782-0605    2013-11-25   \n",
      "3          zjohnston@example.com     +1-939-130-6258    2012-11-17   \n",
      "4               elin@example.net  (390)417-1635x3010    1923-04-15   \n",
      "\n",
      "                  Job Title  \n",
      "0         Probation officer  \n",
      "1                    Dancer  \n",
      "2                      Copy  \n",
      "3  Counselling psychologist  \n",
      "4       Biomedical engineer  \n",
      "\n",
      "DF Info:\n",
      "<class 'pandas.core.frame.DataFrame'>\n",
      "RangeIndex: 1000 entries, 0 to 999\n",
      "Data columns (total 9 columns):\n",
      " #   Column         Non-Null Count  Dtype \n",
      "---  ------         --------------  ----- \n",
      " 0   Index          1000 non-null   int64 \n",
      " 1   User Id        1000 non-null   object\n",
      " 2   First Name     1000 non-null   object\n",
      " 3   Last Name      1000 non-null   object\n",
      " 4   Sex            1000 non-null   object\n",
      " 5   Email          1000 non-null   object\n",
      " 6   Phone          1000 non-null   object\n",
      " 7   Date of birth  1000 non-null   object\n",
      " 8   Job Title      1000 non-null   object\n",
      "dtypes: int64(1), object(8)\n",
      "memory usage: 70.4+ KB\n",
      "None\n"
     ]
    }
   ],
   "source": [
    "## Import the pandas library and the matplotlib.pyplot module\n",
    "import pandas as pd\n",
    "import matplotlib.pyplot as plt\n",
    "\n",
    "## The location of our .csv is\n",
    "address = 'https://drive.google.com/uc?export=download&id=1AWPf-pJodJKeHsARQK_RHiNsE8fjPCVK'\n",
    "\n",
    "## Lets read in the .csv file, which we know is at the previously referenced URL\n",
    "df = pd.read_csv(address)\n",
    "\n",
    "## Let's show the first few rows and the DF info before creating the chart\n",
    "print(\"DF Head:\")\n",
    "print(df.head())\n",
    "\n",
    "print(\"\\nDF Info:\")\n",
    "print(df.info())\n",
    "\n",
    "\n"
   ]
  },
  {
   "cell_type": "markdown",
   "metadata": {},
   "source": [
    "This looks good; we're now ready to create the chart."
   ]
  },
  {
   "cell_type": "code",
   "execution_count": 34,
   "metadata": {},
   "outputs": [
    {
     "data": {
      "image/png": "[encoded data removed]",
      "text/plain": [
       "<Figure size 640x480 with 1 Axes>"
      ]
     },
     "metadata": {},
     "output_type": "display_data"
    }
   ],
   "source": [
    "# We need to create a function to extract the domain -  by splitting the email string at the @ symbol. Might come back here to try doing this with a regular expression\n",
    "def extractdomain(email):\n",
    "    return email.split('@')[-1]\n",
    "\n",
    "# We'll define our colour palette\n",
    "colours = [\"#FFB6C1\", \"#D8BFD8\", \"#FFC0CB\"]\n",
    "\n",
    "# Calculate the total number of each domain - we apply the function extractdomain to every entry in the Email column of the dataframe. \n",
    "## We the count the occurances of each unique domain - https://pandas.pydata.org/docs/reference/api/pandas.Series.value_counts.html and \n",
    "## store the reults in the domaintotals variable \n",
    "\n",
    "domaintotals = df['Email'].apply(extractdomain).value_counts()\n",
    "\n",
    "## We now need to calculate the total number of email occurances by summing up the counts in domaintotals. \n",
    "## We create a list of labels that include each domain along with its percentage of the total (formatted as a %)\n",
    "## zip allows us to loop over each domain and its count together\n",
    "\n",
    "total = domaintotals.sum()\n",
    "labels = [f'{domain} ({count / total:.1%})' for domain, count in zip(domaintotals.index, domaintotals)]\n",
    "\n",
    "# We make a donut chart, adapted from https://www.geeksforgeeks.org/donut-chart-using-matplotlib-in-python/\n",
    "plt.pie(domaintotals, labels=labels, colors=colours[:len(domaintotals)], pctdistance=0.85)\n",
    "plt.gca().add_artist(plt.Circle((0, 0), 0.5, color='white')) \n",
    "\n",
    "plt.show()"
   ]
  }
 ],
 "metadata": {
  "kernelspec": {
   "display_name": "Python 3",
   "language": "python",
   "name": "python3"
  },
  "language_info": {
   "codemirror_mode": {
    "name": "ipython",
    "version": 3
   },
   "file_extension": ".py",
   "mimetype": "text/x-python",
   "name": "python",
   "nbconvert_exporter": "python",
   "pygments_lexer": "ipython3",
   "version": "3.12.7"
  }
 },
 "nbformat": 4,
 "nbformat_minor": 2
}
