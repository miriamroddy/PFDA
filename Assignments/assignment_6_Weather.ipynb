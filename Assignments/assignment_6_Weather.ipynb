{
 "cells": [
  {
   "cell_type": "markdown",
   "metadata": {},
   "source": [
    "\"Create a python file or notebook called assignment_6_Weather (.py or .ipynb)\n",
    "\n",
    "Get the data from this link.\n",
    "\n",
    "https://cli.fusio.net/cli/climate_data/webdata/hly4935.csv\n",
    "\n",
    "(This is different that the data I used in the lecture)\n",
    "\n",
    "Plot:\n",
    "\n",
    "The temperature\n",
    "The mean temperature each day\n",
    "The mean temperature for each month\n",
    "60% of the marks will be given for the above\n",
    "\n",
    "For the last 40%\n",
    "\n",
    "Plot:\n",
    "\n",
    "The Windspeed (there is data missing from this column)\n",
    "The rolling windspeed (say over 24 hours)\n",
    "The max windspeed for each day\n",
    "The monthly mean of the daily max windspeeds (yer I am being nasty here)\n",
    "You do not need to over comment your code. Marks will be given for how nice the plots are.\""
   ]
  }
 ],
 "metadata": {
  "kernelspec": {
   "display_name": "Python 3",
   "language": "python",
   "name": "python3"
  },
  "language_info": {
   "name": "python",
   "version": "3.12.7"
  }
 },
 "nbformat": 4,
 "nbformat_minor": 2
}
