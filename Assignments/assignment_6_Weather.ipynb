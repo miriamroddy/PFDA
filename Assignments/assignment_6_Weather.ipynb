{
 "cells": [
  {
   "cell_type": "markdown",
   "metadata": {},
   "source": [
    "#### Assignment 6"
   ]
  },
  {
   "cell_type": "markdown",
   "metadata": {},
   "source": [
    "\"Create a python file or notebook called assignment_6_Weather (.py or .ipynb)\n",
    "\n",
    "Get the data from this link.\n",
    "\n",
    "https://cli.fusio.net/cli/climate_data/webdata/hly4935.csv\n",
    "\n",
    "(This is different that the data I used in the lecture)\n",
    "\n",
    "Plot:\n",
    "\n",
    "- The temperature\n",
    "- The mean temperature each day\n",
    "- The mean temperature for each month\n",
    "\n",
    "60% of the marks will be given for the above\n",
    "\n",
    "For the last 40%\n",
    "\n",
    "Plot:\n",
    "\n",
    "- The Windspeed (there is data missing from this column)\n",
    "- The rolling windspeed (say over 24 hours)\n",
    "- The max windspeed for each day\n",
    "- The monthly mean of the daily max windspeeds (yer I am being nasty here)\n",
    "\n",
    " You do not need to over comment your code. Marks will be given for how nice the plots are.\""
   ]
  },
  {
   "cell_type": "code",
   "execution_count": 9,
   "metadata": {},
   "outputs": [],
   "source": [
    "# We'll import our libraries\n",
    "import pandas as pd\n",
    "import matplotlib.pyplot as plt\n"
   ]
  },
  {
   "cell_type": "markdown",
   "metadata": {},
   "source": [
    "#### Loading our Data\n",
    "We'll load the data directly from Andrew's URL and skip the first 23 rows - they just contain details of the weather station and column headings.\n"
   ]
  },
  {
   "cell_type": "code",
   "execution_count": 10,
   "metadata": {},
   "outputs": [],
   "source": [
    "# I'll load the data from the URL provided and skip the first 23 rows\n",
    "url = 'https://cli.fusio.net/cli/climate_data/webdata/hly4935.csv'\n",
    "data = pd.read_csv(url, skiprows=23, skipinitialspace=True, low_memory=False)\n"
   ]
  },
  {
   "cell_type": "markdown",
   "metadata": {},
   "source": [
    "Once this was loaded, I got the following error:\n",
    "\n",
    "`C:\\Users\\Administrator\\AppData\\Local\\Temp\\ipykernel_5048\\2833354025.py:3: DtypeWarning: Columns (2,10,12,14,15,16,18,19,20) have mixed types. Specify dtype option on import or set low_memory=False.\n",
    "  data = pd.read_csv(url, skiprows=23)`\n",
    "\n",
    "The fact that there was metadata in the first few rows seemed to make it think that there were mixed data types in the columns. A visual inspection of the data confirmed that the data wasn't mixed after row 25, so I went back and added [low_memory=False](https://www.geeksforgeeks.org/pandas-read_csv-low_memory-and-dtype-options/) option above.\n",
    "\n",
    "We want to skip the first 23 rows, so we use iloc for this and create a new dataframe called *knockweather*. We'll use the [pandas.DataFrame.head\n",
    "](https://pandas.pydata.org/docs/reference/api/pandas.DataFrame.head.html) and [pandas.DataFrame.info](https://pandas.pydata.org/docs/reference/api/pandas.DataFrame.info.html#pandas-dataframe-info) methods to have a look at our data. "
   ]
  },
  {
   "cell_type": "code",
   "execution_count": 11,
   "metadata": {},
   "outputs": [
    {
     "data": {
      "text/html": [
       "<div>\n",
       "<style scoped>\n",
       "    .dataframe tbody tr th:only-of-type {\n",
       "        vertical-align: middle;\n",
       "    }\n",
       "\n",
       "    .dataframe tbody tr th {\n",
       "        vertical-align: top;\n",
       "    }\n",
       "\n",
       "    .dataframe thead th {\n",
       "        text-align: right;\n",
       "    }\n",
       "</style>\n",
       "<table border=\"1\" class=\"dataframe\">\n",
       "  <thead>\n",
       "    <tr style=\"text-align: right;\">\n",
       "      <th></th>\n",
       "      <th>date</th>\n",
       "      <th>ind</th>\n",
       "      <th>rain</th>\n",
       "      <th>ind.1</th>\n",
       "      <th>temp</th>\n",
       "      <th>ind.2</th>\n",
       "      <th>wetb</th>\n",
       "      <th>dewpt</th>\n",
       "      <th>vappr</th>\n",
       "      <th>rhum</th>\n",
       "      <th>...</th>\n",
       "      <th>ind.3</th>\n",
       "      <th>wdsp</th>\n",
       "      <th>ind.4</th>\n",
       "      <th>wddir</th>\n",
       "      <th>ww</th>\n",
       "      <th>w</th>\n",
       "      <th>sun</th>\n",
       "      <th>vis</th>\n",
       "      <th>clht</th>\n",
       "      <th>clamt</th>\n",
       "    </tr>\n",
       "  </thead>\n",
       "  <tbody>\n",
       "    <tr>\n",
       "      <th>23</th>\n",
       "      <td>01-aug-1996 06:00</td>\n",
       "      <td>0</td>\n",
       "      <td>0.0</td>\n",
       "      <td>0</td>\n",
       "      <td>10.2</td>\n",
       "      <td>0</td>\n",
       "      <td>9.2</td>\n",
       "      <td>8.1</td>\n",
       "      <td>10.8</td>\n",
       "      <td>87</td>\n",
       "      <td>...</td>\n",
       "      <td>2</td>\n",
       "      <td>8.0</td>\n",
       "      <td>2</td>\n",
       "      <td>250.0</td>\n",
       "      <td>2.0</td>\n",
       "      <td>11.0</td>\n",
       "      <td>0.0</td>\n",
       "      <td>30000.0</td>\n",
       "      <td>43.0</td>\n",
       "      <td>7.0</td>\n",
       "    </tr>\n",
       "    <tr>\n",
       "      <th>24</th>\n",
       "      <td>01-aug-1996 07:00</td>\n",
       "      <td>0</td>\n",
       "      <td>0.0</td>\n",
       "      <td>0</td>\n",
       "      <td>10.7</td>\n",
       "      <td>0</td>\n",
       "      <td>9.5</td>\n",
       "      <td>8.3</td>\n",
       "      <td>10.9</td>\n",
       "      <td>85</td>\n",
       "      <td>...</td>\n",
       "      <td>2</td>\n",
       "      <td>7.0</td>\n",
       "      <td>2</td>\n",
       "      <td>240.0</td>\n",
       "      <td>2.0</td>\n",
       "      <td>11.0</td>\n",
       "      <td>0.0</td>\n",
       "      <td>25000.0</td>\n",
       "      <td>45.0</td>\n",
       "      <td>7.0</td>\n",
       "    </tr>\n",
       "    <tr>\n",
       "      <th>25</th>\n",
       "      <td>01-aug-1996 08:00</td>\n",
       "      <td>0</td>\n",
       "      <td>0.0</td>\n",
       "      <td>0</td>\n",
       "      <td>10.6</td>\n",
       "      <td>0</td>\n",
       "      <td>9.7</td>\n",
       "      <td>8.8</td>\n",
       "      <td>11.3</td>\n",
       "      <td>89</td>\n",
       "      <td>...</td>\n",
       "      <td>2</td>\n",
       "      <td>11.0</td>\n",
       "      <td>2</td>\n",
       "      <td>250.0</td>\n",
       "      <td>2.0</td>\n",
       "      <td>11.0</td>\n",
       "      <td>0.0</td>\n",
       "      <td>30000.0</td>\n",
       "      <td>42.0</td>\n",
       "      <td>7.0</td>\n",
       "    </tr>\n",
       "    <tr>\n",
       "      <th>26</th>\n",
       "      <td>01-aug-1996 09:00</td>\n",
       "      <td>2</td>\n",
       "      <td>0.0</td>\n",
       "      <td>0</td>\n",
       "      <td>12.0</td>\n",
       "      <td>0</td>\n",
       "      <td>10.6</td>\n",
       "      <td>9.2</td>\n",
       "      <td>11.7</td>\n",
       "      <td>83</td>\n",
       "      <td>...</td>\n",
       "      <td>2</td>\n",
       "      <td>11.0</td>\n",
       "      <td>2</td>\n",
       "      <td>250.0</td>\n",
       "      <td>21.0</td>\n",
       "      <td>62.0</td>\n",
       "      <td>0.0</td>\n",
       "      <td>30000.0</td>\n",
       "      <td>40.0</td>\n",
       "      <td>7.0</td>\n",
       "    </tr>\n",
       "    <tr>\n",
       "      <th>27</th>\n",
       "      <td>01-aug-1996 10:00</td>\n",
       "      <td>0</td>\n",
       "      <td>0.0</td>\n",
       "      <td>0</td>\n",
       "      <td>12.7</td>\n",
       "      <td>0</td>\n",
       "      <td>10.8</td>\n",
       "      <td>8.9</td>\n",
       "      <td>11.4</td>\n",
       "      <td>78</td>\n",
       "      <td>...</td>\n",
       "      <td>2</td>\n",
       "      <td>13.0</td>\n",
       "      <td>2</td>\n",
       "      <td>260.0</td>\n",
       "      <td>2.0</td>\n",
       "      <td>11.0</td>\n",
       "      <td>0.0</td>\n",
       "      <td>35000.0</td>\n",
       "      <td>37.0</td>\n",
       "      <td>7.0</td>\n",
       "    </tr>\n",
       "  </tbody>\n",
       "</table>\n",
       "<p>5 rows × 21 columns</p>\n",
       "</div>"
      ],
      "text/plain": [
       "                 date  ind  rain  ind.1  temp  ind.2  wetb  dewpt  vappr  \\\n",
       "23  01-aug-1996 06:00    0   0.0      0  10.2      0   9.2    8.1   10.8   \n",
       "24  01-aug-1996 07:00    0   0.0      0  10.7      0   9.5    8.3   10.9   \n",
       "25  01-aug-1996 08:00    0   0.0      0  10.6      0   9.7    8.8   11.3   \n",
       "26  01-aug-1996 09:00    2   0.0      0  12.0      0  10.6    9.2   11.7   \n",
       "27  01-aug-1996 10:00    0   0.0      0  12.7      0  10.8    8.9   11.4   \n",
       "\n",
       "    rhum  ...  ind.3  wdsp  ind.4  wddir    ww     w  sun      vis  clht  \\\n",
       "23    87  ...      2   8.0      2  250.0   2.0  11.0  0.0  30000.0  43.0   \n",
       "24    85  ...      2   7.0      2  240.0   2.0  11.0  0.0  25000.0  45.0   \n",
       "25    89  ...      2  11.0      2  250.0   2.0  11.0  0.0  30000.0  42.0   \n",
       "26    83  ...      2  11.0      2  250.0  21.0  62.0  0.0  30000.0  40.0   \n",
       "27    78  ...      2  13.0      2  260.0   2.0  11.0  0.0  35000.0  37.0   \n",
       "\n",
       "    clamt  \n",
       "23    7.0  \n",
       "24    7.0  \n",
       "25    7.0  \n",
       "26    7.0  \n",
       "27    7.0  \n",
       "\n",
       "[5 rows x 21 columns]"
      ]
     },
     "execution_count": 11,
     "metadata": {},
     "output_type": "execute_result"
    }
   ],
   "source": [
    "# We want to ignore the first 23 rows so we use iloc to skip the first 23 rows\n",
    "knockweather = data.iloc[23:]\n",
    "# Let's display the first 5 rows of the our new DF\n",
    "knockweather.head()\n",
    "\n",
    "\n"
   ]
  },
  {
   "cell_type": "code",
   "execution_count": 12,
   "metadata": {},
   "outputs": [
    {
     "name": "stdout",
     "output_type": "stream",
     "text": [
      "<class 'pandas.core.frame.DataFrame'>\n",
      "RangeIndex: 246907 entries, 23 to 246929\n",
      "Data columns (total 21 columns):\n",
      " #   Column  Non-Null Count   Dtype  \n",
      "---  ------  --------------   -----  \n",
      " 0   date    246907 non-null  object \n",
      " 1   ind     246907 non-null  int64  \n",
      " 2   rain    246858 non-null  float64\n",
      " 3   ind.1   246907 non-null  int64  \n",
      " 4   temp    246907 non-null  float64\n",
      " 5   ind.2   246907 non-null  int64  \n",
      " 6   wetb    246907 non-null  float64\n",
      " 7   dewpt   246907 non-null  float64\n",
      " 8   vappr   246907 non-null  float64\n",
      " 9   rhum    246907 non-null  int64  \n",
      " 10  msl     246889 non-null  float64\n",
      " 11  ind.3   246907 non-null  int64  \n",
      " 12  wdsp    246857 non-null  float64\n",
      " 13  ind.4   246907 non-null  int64  \n",
      " 14  wddir   246855 non-null  float64\n",
      " 15  ww      192195 non-null  float64\n",
      " 16  w       192194 non-null  float64\n",
      " 17  sun     246907 non-null  float64\n",
      " 18  vis     185100 non-null  float64\n",
      " 19  clht    246889 non-null  float64\n",
      " 20  clamt   246889 non-null  float64\n",
      "dtypes: float64(14), int64(6), object(1)\n",
      "memory usage: 39.6+ MB\n"
     ]
    }
   ],
   "source": [
    "# Let's get info on our dataframe\n",
    "knockweather.info()"
   ]
  },
  {
   "cell_type": "markdown",
   "metadata": {},
   "source": [
    "We now want to check for missing values. Initially, the below output indicated that there were no missing values. The assignment question had indicated that there were missing values and a visual inspection comfirmed this. Therefore I added `skipinitialspace=True`, to remove spaces that has been masking the hidden values and now we had a picture of where the missing values are. Date and temp show values of zero so we can proceed with our analysis."
   ]
  },
  {
   "cell_type": "code",
   "execution_count": 13,
   "metadata": {},
   "outputs": [
    {
     "data": {
      "text/plain": [
       "date         0\n",
       "ind          0\n",
       "rain        49\n",
       "ind.1        0\n",
       "temp         0\n",
       "ind.2        0\n",
       "wetb         0\n",
       "dewpt        0\n",
       "vappr        0\n",
       "rhum         0\n",
       "msl         18\n",
       "ind.3        0\n",
       "wdsp        50\n",
       "ind.4        0\n",
       "wddir       52\n",
       "ww       54712\n",
       "w        54713\n",
       "sun          0\n",
       "vis      61807\n",
       "clht        18\n",
       "clamt       18\n",
       "dtype: int64"
      ]
     },
     "execution_count": 13,
     "metadata": {},
     "output_type": "execute_result"
    }
   ],
   "source": [
    "knockweather.isna().sum()"
   ]
  },
  {
   "cell_type": "markdown",
   "metadata": {},
   "source": [
    "We see from the output of `knockweather.head()`that the date column in the dataframe contains strings formatted as dates (e.g. `01-aug-1996 06:00` ). We need to convert these dates to a datetime object before we plot it. I got errors when the first plot was generated - this was resolved by incorporting `format=\"%d-%b-%Y %H:%M\",` into the code."
   ]
  },
  {
   "cell_type": "code",
   "execution_count": 14,
   "metadata": {},
   "outputs": [],
   "source": [
    "# Convert the 'date' column to datetime format with a specific format and use .loc to avoid warnings\n",
    "knockweather.loc[:, 'date'] = pd.to_datetime(knockweather['date'], format=\"%d-%b-%Y %H:%M\", errors='coerce')"
   ]
  },
  {
   "cell_type": "code",
   "execution_count": 15,
   "metadata": {},
   "outputs": [
    {
     "data": {
      "image/png": "[encoded data removed]",
      "text/plain": [
       "<Figure size 1200x600 with 1 Axes>"
      ]
     },
     "metadata": {},
     "output_type": "display_data"
    }
   ],
   "source": [
    "\n",
    "\n",
    "# Now plot the data\n",
    "plt.figure(figsize=(12, 6))\n",
    "plt.plot(knockweather['date'], knockweather['temp'], color='purple', label='Temperature (°C)')\n",
    "plt.xlabel('Date')\n",
    "plt.ylabel('Temperature (°C)')\n",
    "plt.title('Temperature Over Time')\n",
    "plt.legend()\n",
    "plt.show()\n"
   ]
  }
 ],
 "metadata": {
  "kernelspec": {
   "display_name": "Python 3",
   "language": "python",
   "name": "python3"
  },
  "language_info": {
   "codemirror_mode": {
    "name": "ipython",
    "version": 3
   },
   "file_extension": ".py",
   "mimetype": "text/x-python",
   "name": "python",
   "nbconvert_exporter": "python",
   "pygments_lexer": "ipython3",
   "version": "3.12.7"
  }
 },
 "nbformat": 4,
 "nbformat_minor": 2
}
